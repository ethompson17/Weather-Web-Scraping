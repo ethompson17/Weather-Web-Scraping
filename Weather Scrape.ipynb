{
 "cells": [
  {
   "cell_type": "markdown",
   "id": "6571d074",
   "metadata": {},
   "source": [
    "# Pinckney Temp"
   ]
  },
  {
   "cell_type": "code",
   "execution_count": 2,
   "id": "29b08679",
   "metadata": {},
   "outputs": [
    {
     "data": {
      "text/plain": [
       "['Pinckney, MI', '34°', 'As of 1:15 pm EDT']"
      ]
     },
     "execution_count": 2,
     "metadata": {},
     "output_type": "execute_result"
    }
   ],
   "source": [
    "from bs4 import BeautifulSoup\n",
    "import requests\n",
    "\n",
    "url = 'https://weather.com/weather/today/l/4c27bd542b4de1167a255e77336042ea2c71d3cb2be7023401219ff5b337fa8d'\n",
    "\n",
    "page = requests.get(url)\n",
    "\n",
    "soup = BeautifulSoup(page.content, 'html.parser')\n",
    "title = soup.title.text.replace(' Weather Forecast and Conditions - The Weather Channel | Weather.com', '')\n",
    "time = soup.find('span', class_ = 'CurrentConditions--timestamp--23dfw').text\n",
    "time = time.replace('\\xa0', '')\n",
    "lists = soup.find('span', class_ = 'CurrentConditions--tempValue--3a50n').text\n",
    "\n",
    "information = [title, lists, time]\n",
    "\n",
    "list(information)"
   ]
  },
  {
   "cell_type": "markdown",
   "id": "50c989ee",
   "metadata": {},
   "source": [
    "# Miami Temp"
   ]
  },
  {
   "cell_type": "code",
   "execution_count": 3,
   "id": "6665dc93",
   "metadata": {},
   "outputs": [
    {
     "data": {
      "text/plain": [
       "['Miami, FL', '80°', 'As of 1:16 pm EDT']"
      ]
     },
     "execution_count": 3,
     "metadata": {},
     "output_type": "execute_result"
    }
   ],
   "source": [
    "from bs4 import BeautifulSoup\n",
    "import requests\n",
    "\n",
    "url = 'https://weather.com/weather/today/l/3881cd527264bc7c99b6b541473c0085e75aa026b6bd99658c56ad9bb55bd96e'\n",
    "\n",
    "page = requests.get(url)\n",
    "\n",
    "soup = BeautifulSoup(page.content, 'html.parser')\n",
    "\n",
    "title = soup.title.text.replace(' Weather Forecast and Conditions - The Weather Channel | Weather.com', '')\n",
    "time = soup.find('span', class_ = 'CurrentConditions--timestamp--23dfw').text\n",
    "lists = soup.find('span', class_ = 'CurrentConditions--tempValue--3a50n').text\n",
    "time = time.replace('\\xa0', '')\n",
    "\n",
    "information = [title, lists, time]\n",
    "\n",
    "list(information)"
   ]
  },
  {
   "cell_type": "markdown",
   "id": "18a214c3",
   "metadata": {},
   "source": [
    "# Milan Temp"
   ]
  },
  {
   "cell_type": "code",
   "execution_count": 4,
   "id": "34ad002d",
   "metadata": {},
   "outputs": [
    {
     "data": {
      "text/plain": [
       "['Milan, Milan, Italy', '70°', 'As of 7:23 pm CEST']"
      ]
     },
     "execution_count": 4,
     "metadata": {},
     "output_type": "execute_result"
    }
   ],
   "source": [
    "from bs4 import BeautifulSoup\n",
    "import requests\n",
    "\n",
    "url = 'https://weather.com/weather/today/l/0dd1f5d86ccdf65c509da8631d100351f372b0657440322c7291d5d3d261d6ea'\n",
    "\n",
    "page = requests.get(url)\n",
    "\n",
    "soup = BeautifulSoup(page.content, 'html.parser')\n",
    "\n",
    "title = soup.title.text.replace(' Weather Forecast and Conditions - The Weather Channel | Weather.com', '')\n",
    "time = soup.find('span', class_ = 'CurrentConditions--timestamp--23dfw').text\n",
    "lists = soup.find('span', class_ = 'CurrentConditions--tempValue--3a50n').text\n",
    "time = time.replace('\\xa0', '')\n",
    "\n",
    "information = [title, lists, time]\n",
    "\n",
    "list(information)"
   ]
  }
 ],
 "metadata": {
  "kernelspec": {
   "display_name": "Python 3 (ipykernel)",
   "language": "python",
   "name": "python3"
  },
  "language_info": {
   "codemirror_mode": {
    "name": "ipython",
    "version": 3
   },
   "file_extension": ".py",
   "mimetype": "text/x-python",
   "name": "python",
   "nbconvert_exporter": "python",
   "pygments_lexer": "ipython3",
   "version": "3.9.7"
  }
 },
 "nbformat": 4,
 "nbformat_minor": 5
}
