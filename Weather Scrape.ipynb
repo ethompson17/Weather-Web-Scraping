{
 "cells": [
  {
   "cell_type": "markdown",
   "id": "4c21a152",
   "metadata": {},
   "source": [
    "# Pinckney Temp"
   ]
  },
  {
   "cell_type": "markdown",
   "id": "7020cadc",
   "metadata": {},
   "source": [
    "## Normal Function (One time run)"
   ]
  },
  {
   "cell_type": "code",
   "execution_count": 2,
   "id": "769ce546",
   "metadata": {},
   "outputs": [
    {
     "data": {
      "text/plain": [
       "['Pinckney, MI', '26°', 'As of 4:13 am EDT']"
      ]
     },
     "execution_count": 2,
     "metadata": {},
     "output_type": "execute_result"
    }
   ],
   "source": [
    "from bs4 import BeautifulSoup\n",
    "import requests\n",
    "import time\n",
    "import datetime\n",
    "\n",
    "url = 'https://weather.com/weather/today/l/4c27bd542b4de1167a255e77336042ea2c71d3cb2be7023401219ff5b337fa8d'\n",
    "\n",
    "page = requests.get(url)\n",
    "\n",
    "soup = BeautifulSoup(page.content, 'html.parser')\n",
    "location = soup.title.text.replace(' Weather Forecast and Conditions - The Weather Channel | Weather.com', '')\n",
    "temp = soup.find('span', class_ = 'CurrentConditions--tempValue--3a50n').text\n",
    "last_updated = soup.find('span', class_ = 'CurrentConditions--timestamp--23dfw').text.replace('\\xa0', '')\n",
    "\n",
    "import datetime\n",
    "\n",
    "today = datetime.date.today()\n",
    "\n",
    "information = [location, temp, last_updated]\n",
    "\n",
    "list(information)"
   ]
  },
  {
   "cell_type": "markdown",
   "id": "f00a22fb",
   "metadata": {},
   "source": [
    "# -----------------------------------------------------------------------------------------------------------------"
   ]
  },
  {
   "cell_type": "markdown",
   "id": "d8df3ce5",
   "metadata": {},
   "source": [
    "## Create CSV and write headers and data into the file"
   ]
  },
  {
   "cell_type": "markdown",
   "id": "949010de",
   "metadata": {},
   "source": [
    "# ------ ONLY RUN ONCE (OR TO RESET THE CSV FILE) ------"
   ]
  },
  {
   "cell_type": "code",
   "execution_count": 3,
   "id": "8c112f3e",
   "metadata": {},
   "outputs": [],
   "source": [
    "import csv\n",
    "    \n",
    "header = ['location', 'temp', 'last_updated', 'date']\n",
    "data = [location, temp, last_updated, today]\n",
    "    \n",
    "with open('PinckneyWeather.csv', 'w', newline='', encoding = 'UTF8') as f:\n",
    "    writer = csv.writer(f)\n",
    "    writer.writerow(header)"
   ]
  },
  {
   "cell_type": "markdown",
   "id": "bc5b5710",
   "metadata": {},
   "source": [
    "## Automate"
   ]
  },
  {
   "cell_type": "code",
   "execution_count": 4,
   "id": "5face2fa",
   "metadata": {},
   "outputs": [],
   "source": [
    "def check_temp():\n",
    "    from bs4 import BeautifulSoup\n",
    "    import requests\n",
    "    import time\n",
    "    \n",
    "    url = 'https://weather.com/weather/today/l/4c27bd542b4de1167a255e77336042ea2c71d3cb2be7023401219ff5b337fa8d'\n",
    "    \n",
    "    page = requests.get(url)\n",
    "    \n",
    "    soup = BeautifulSoup(page.content, 'html.parser')\n",
    "    \n",
    "    location = soup.title.text.replace(' Weather Forecast and Conditions - The Weather Channel | Weather.com', '')\n",
    "    last_updated = soup.find('span', class_ = 'CurrentConditions--timestamp--23dfw').text\n",
    "    temp = soup.find('span', class_ = 'CurrentConditions--tempValue--3a50n').text.replace('\\xa0', '')\n",
    "    \n",
    "    import datetime\n",
    "\n",
    "    today = datetime.date.today()\n",
    "    \n",
    "    import csv\n",
    "    \n",
    "    header = ['location', 'temp', 'last_updated', 'date']\n",
    "    data = [location, temp, last_updated, today]\n",
    "    \n",
    "    with open('PinckneyWeather.csv', 'a+', newline='', encoding = 'UTF8') as f:\n",
    "        writer = csv.writer(f)\n",
    "        writer.writerow(data)"
   ]
  },
  {
   "cell_type": "markdown",
   "id": "0a693d26",
   "metadata": {},
   "source": [
    "## START WEATHER BOT"
   ]
  },
  {
   "cell_type": "code",
   "execution_count": null,
   "id": "d408d48c",
   "metadata": {
    "scrolled": true
   },
   "outputs": [],
   "source": [
    "while(True):\n",
    "    check_temp()\n",
    "    time.sleep(2)"
   ]
  },
  {
   "cell_type": "markdown",
   "id": "67f084aa",
   "metadata": {},
   "source": [
    "## View df"
   ]
  },
  {
   "cell_type": "code",
   "execution_count": 5,
   "id": "cd4607c8",
   "metadata": {},
   "outputs": [
    {
     "name": "stdout",
     "output_type": "stream",
     "text": [
      "Empty DataFrame\n",
      "Columns: [location, temp, last_updated, date]\n",
      "Index: []\n"
     ]
    }
   ],
   "source": [
    "import pandas as pd\n",
    "\n",
    "df = pd.read_csv('PinckneyWeather.csv')\n",
    "\n",
    "print(df)"
   ]
  },
  {
   "cell_type": "markdown",
   "id": "c24f7a87",
   "metadata": {},
   "source": [
    "# Miami Temp"
   ]
  },
  {
   "cell_type": "code",
   "execution_count": 6,
   "id": "c678dd3f",
   "metadata": {},
   "outputs": [
    {
     "data": {
      "text/plain": [
       "['Miami, FL', '75°', 'As of 4:13 am EDT']"
      ]
     },
     "execution_count": 6,
     "metadata": {},
     "output_type": "execute_result"
    }
   ],
   "source": [
    "from bs4 import BeautifulSoup\n",
    "import requests\n",
    "\n",
    "url = 'https://weather.com/weather/today/l/3881cd527264bc7c99b6b541473c0085e75aa026b6bd99658c56ad9bb55bd96e'\n",
    "\n",
    "page = requests.get(url)\n",
    "\n",
    "soup = BeautifulSoup(page.content, 'html.parser')\n",
    "\n",
    "title = soup.title.text.replace(' Weather Forecast and Conditions - The Weather Channel | Weather.com', '')\n",
    "time = soup.find('span', class_ = 'CurrentConditions--timestamp--23dfw').text\n",
    "lists = soup.find('span', class_ = 'CurrentConditions--tempValue--3a50n').text\n",
    "time = time.replace('\\xa0', '')\n",
    "\n",
    "information = [title, lists, time]\n",
    "\n",
    "list(information)"
   ]
  },
  {
   "cell_type": "markdown",
   "id": "7f27dc61",
   "metadata": {},
   "source": [
    "# Milan Temp"
   ]
  },
  {
   "cell_type": "code",
   "execution_count": 7,
   "id": "45ee63f0",
   "metadata": {},
   "outputs": [
    {
     "data": {
      "text/plain": [
       "['Milan, Milan, Italy', '63°', 'As of 10:20 am CEST']"
      ]
     },
     "execution_count": 7,
     "metadata": {},
     "output_type": "execute_result"
    }
   ],
   "source": [
    "from bs4 import BeautifulSoup\n",
    "import requests\n",
    "\n",
    "url = 'https://weather.com/weather/today/l/0dd1f5d86ccdf65c509da8631d100351f372b0657440322c7291d5d3d261d6ea'\n",
    "\n",
    "page = requests.get(url)\n",
    "\n",
    "soup = BeautifulSoup(page.content, 'html.parser')\n",
    "\n",
    "title = soup.title.text.replace(' Weather Forecast and Conditions - The Weather Channel | Weather.com', '')\n",
    "time = soup.find('span', class_ = 'CurrentConditions--timestamp--23dfw').text\n",
    "lists = soup.find('span', class_ = 'CurrentConditions--tempValue--3a50n').text\n",
    "time = time.replace('\\xa0', '')\n",
    "\n",
    "information = [title, lists, time]\n",
    "\n",
    "list(information)"
   ]
  }
 ],
 "metadata": {
  "kernelspec": {
   "display_name": "Python 3 (ipykernel)",
   "language": "python",
   "name": "python3"
  },
  "language_info": {
   "codemirror_mode": {
    "name": "ipython",
    "version": 3
   },
   "file_extension": ".py",
   "mimetype": "text/x-python",
   "name": "python",
   "nbconvert_exporter": "python",
   "pygments_lexer": "ipython3",
   "version": "3.9.7"
  }
 },
 "nbformat": 4,
 "nbformat_minor": 5
}
